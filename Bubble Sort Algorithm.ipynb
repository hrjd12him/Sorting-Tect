{
 "cells": [
  {
   "cell_type": "markdown",
   "metadata": {},
   "source": [
    "# python code"
   ]
  },
  {
   "cell_type": "code",
   "execution_count": 4,
   "metadata": {},
   "outputs": [
    {
     "name": "stdout",
     "output_type": "stream",
     "text": [
      "[9, 13, 20, 24, 46, 52]\n"
     ]
    }
   ],
   "source": [
    "def bubble_sort(arr,l):\n",
    "    for i in range(l):\n",
    "        for j in range(0, l-i-1):\n",
    "            if arr[j]>arr[j+1]:\n",
    "                arr[j],arr[j+1] = arr[j+1],arr[j]\n",
    "\n",
    "\n",
    "arr = [int(ele) for ele in input().split()]\n",
    "l = len(arr)\n",
    "bubble_sort(arr,l)\n",
    "print(arr)"
   ]
  },
  {
   "cell_type": "markdown",
   "metadata": {},
   "source": [
    "# optimized code"
   ]
  },
  {
   "cell_type": "code",
   "execution_count": 1,
   "metadata": {},
   "outputs": [
    {
     "name": "stdout",
     "output_type": "stream",
     "text": [
      "[1, 6, 8, 34, 54]\n"
     ]
    }
   ],
   "source": [
    "arr = [8,6,54,34,1]\n",
    "l=len(arr)\n",
    "for i in range(l):\n",
    "    for j in range(0,l-i-1):\n",
    "        if arr[j]>arr[j+1]:\n",
    "            arr[j],arr[j+1]=arr[j+1],arr[j]\n",
    "\n",
    "print(arr)"
   ]
  },
  {
   "cell_type": "markdown",
   "metadata": {},
   "source": [
    "# c++ code"
   ]
  },
  {
   "cell_type": "markdown",
   "metadata": {},
   "source": [
    "```\n",
    "#include <bits/stdc++.h>\n",
    "using namespace std;\n",
    "\n",
    "void bubble_sort(int arr[], int n) {\n",
    "    // bubble sort\n",
    "    for (int i = n - 1; i >= 0; i--) {\n",
    "        for (int j = 0; j <= i - 1; j++) {\n",
    "            if (arr[j] > arr[j + 1]) {\n",
    "                int temp = arr[j + 1];\n",
    "                arr[j + 1] = arr[j];\n",
    "                arr[j] = temp;\n",
    "            }\n",
    "        }\n",
    "    }\n",
    "\n",
    "    cout << \"After Using bubble sort: \" << \"\\n\";\n",
    "    for (int i = 0; i < n; i++) {\n",
    "        cout << arr[i] << \" \";\n",
    "    }\n",
    "    cout << \"\\n\";\n",
    "}\n",
    "\n",
    "int main()\n",
    "{\n",
    "    int arr[] = {13, 46, 24, 52, 20, 9};\n",
    "    int n = sizeof(arr) / sizeof(arr[0]);\n",
    "    cout << \"Before Using Bubble Sort: \" << endl;\n",
    "    for (int i = 0; i < n; i++)\n",
    "    {\n",
    "        cout << arr[i] << \" \";\n",
    "    }\n",
    "    cout << endl;\n",
    "\n",
    "    bubble_sort(arr, n);\n",
    "    return 0;\n",
    "\n",
    "```"
   ]
  }
 ],
 "metadata": {
  "kernelspec": {
   "display_name": "Python 3",
   "language": "python",
   "name": "python3"
  },
  "language_info": {
   "codemirror_mode": {
    "name": "ipython",
    "version": 3
   },
   "file_extension": ".py",
   "mimetype": "text/x-python",
   "name": "python",
   "nbconvert_exporter": "python",
   "pygments_lexer": "ipython3",
   "version": "3.11.4"
  },
  "orig_nbformat": 4
 },
 "nbformat": 4,
 "nbformat_minor": 2
}
