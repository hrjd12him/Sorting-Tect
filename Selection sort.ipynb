{
 "cells": [
  {
   "cell_type": "markdown",
   "metadata": {},
   "source": [
    "# Python Code"
   ]
  },
  {
   "cell_type": "code",
   "execution_count": 1,
   "metadata": {},
   "outputs": [
    {
     "name": "stdout",
     "output_type": "stream",
     "text": [
      "[2, 7, 8, 45, 84]\n"
     ]
    }
   ],
   "source": [
    "def selection_sort(input_list,n):\n",
    "\n",
    "    for i in range(0,n-1):\n",
    "        mini = i\n",
    "        for j in range(i+1,n):\n",
    "            if input_list[j]<input_list[mini]:\n",
    "                mini = j\n",
    "        input_list[mini],input_list[i] = input_list[i],input_list[mini]\n",
    "\n",
    "\n",
    "\n",
    "input_list = [int(ele) for ele in input(\"enter a unsorted list: \").split()]\n",
    "n = len(input_list)\n",
    "selection_sort(input_list,n)\n",
    "print(input_list)\n",
    "\n"
   ]
  },
  {
   "cell_type": "markdown",
   "metadata": {},
   "source": [
    "#   c++ code"
   ]
  },
  {
   "cell_type": "markdown",
   "metadata": {},
   "source": [
    "```\n",
    "#include<bits/stdc++.h>\n",
    "\n",
    "using namespace std;\n",
    "void selection_sort(int arr[], int n) {\n",
    "  // selection sort\n",
    "  for (int i = 0; i < n - 1; i++) {\n",
    "    int mini = i;\n",
    "    for (int j = i + 1; j < n; j++) {\n",
    "      if (arr[j] < arr[mini]) {\n",
    "        mini = j;\n",
    "      }\n",
    "    }\n",
    "    int temp = arr[mini];\n",
    "    arr[mini] = arr[i];\n",
    "    arr[i] = temp;\n",
    "  }\n",
    "\n",
    "  cout << \"After selection sort: \" << \"\\n\";\n",
    "  for (int i = 0; i < n; i++) {\n",
    "    cout << arr[i] << \" \";\n",
    "  }\n",
    "  cout << \"\\n\";\n",
    "\n",
    "}\n",
    "int main() {\n",
    "  int arr[] = {13,46,24,52,20,9};\n",
    "  int n = sizeof(arr) / sizeof(arr[0]);\n",
    "   cout << \"Before selection sort: \" << \"\\n\";\n",
    "   for (int i = 0; i < n; i++) {\n",
    "    cout << arr[i] << \" \";\n",
    "  }\n",
    "  cout << \"\\n\";\n",
    "  selection_sort(arr, n);\n",
    "  return 0;\n",
    "}\n",
    "\n",
    "```"
   ]
  }
 ],
 "metadata": {
  "kernelspec": {
   "display_name": "Python 3",
   "language": "python",
   "name": "python3"
  },
  "language_info": {
   "codemirror_mode": {
    "name": "ipython",
    "version": 3
   },
   "file_extension": ".py",
   "mimetype": "text/x-python",
   "name": "python",
   "nbconvert_exporter": "python",
   "pygments_lexer": "ipython3",
   "version": "3.11.4"
  },
  "orig_nbformat": 4
 },
 "nbformat": 4,
 "nbformat_minor": 2
}
