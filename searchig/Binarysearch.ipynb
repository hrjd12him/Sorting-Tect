{
 "cells": [
  {
   "cell_type": "markdown",
   "metadata": {},
   "source": [
    "* to implement binary search the elements inside the list should be sorted \n",
    "* and list should not contain duplicats\n"
   ]
  },
  {
   "cell_type": "code",
   "execution_count": 2,
   "metadata": {},
   "outputs": [
    {
     "name": "stdout",
     "output_type": "stream",
     "text": [
      "-1\n"
     ]
    }
   ],
   "source": [
    "l = [12,31,65,43,34]\n",
    "tar = int(input(\"Enter the value: \"))\n",
    "l.sort()\n",
    "\n",
    "left = 0\n",
    "right = len(l)-1\n",
    "if tar in range(l[left],l[right]):\n",
    "    while left<right:\n",
    "        mid = (left+right)//2\n",
    "        if l[mid] == tar:\n",
    "            print(\"In my list ->\",l,' tar is at: ', mid , 'Index')\n",
    "            break\n",
    "        elif tar>l[mid]:\n",
    "            left = mid\n",
    "        else:\n",
    "            right = mid\n",
    "    else:\n",
    "        print(-1)"
   ]
  }
 ],
 "metadata": {
  "kernelspec": {
   "display_name": "Python 3",
   "language": "python",
   "name": "python3"
  },
  "language_info": {
   "codemirror_mode": {
    "name": "ipython",
    "version": 3
   },
   "file_extension": ".py",
   "mimetype": "text/x-python",
   "name": "python",
   "nbconvert_exporter": "python",
   "pygments_lexer": "ipython3",
   "version": "3.11.4"
  }
 },
 "nbformat": 4,
 "nbformat_minor": 2
}
