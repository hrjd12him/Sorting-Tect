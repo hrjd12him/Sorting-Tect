{
 "cells": [
  {
   "cell_type": "code",
   "execution_count": 3,
   "metadata": {},
   "outputs": [
    {
     "name": "stdout",
     "output_type": "stream",
     "text": [
      "[2, 7, 8, 11, 23]\n"
     ]
    }
   ],
   "source": [
    "def insertion_sort(arr):\n",
    "    for i in range(1, len(arr)):\n",
    "        key = arr[i]  # Element to be inserted in the sorted part\n",
    "        j = i - 1     # Index of the last element in the sorted part\n",
    "        \n",
    "        # Move elements of the sorted part that are greater than the key\n",
    "        # to one position ahead of their current position\n",
    "        while j >= 0 and key < arr[j]:\n",
    "            arr[j + 1] = arr[j]\n",
    "            j -= 1\n",
    "        \n",
    "        arr[j + 1] = key  # Insert the key in its correct position\n",
    "\n",
    "# Input\n",
    "arr = [int(ele) for ele in input().split()]\n",
    "\n",
    "# Sort the list using insertion sort\n",
    "insertion_sort(arr)\n",
    "\n",
    "# Output the sorted list\n",
    "print(arr)\n"
   ]
  }
 ],
 "metadata": {
  "kernelspec": {
   "display_name": "Python 3",
   "language": "python",
   "name": "python3"
  },
  "language_info": {
   "codemirror_mode": {
    "name": "ipython",
    "version": 3
   },
   "file_extension": ".py",
   "mimetype": "text/x-python",
   "name": "python",
   "nbconvert_exporter": "python",
   "pygments_lexer": "ipython3",
   "version": "3.11.4"
  },
  "orig_nbformat": 4
 },
 "nbformat": 4,
 "nbformat_minor": 2
}
