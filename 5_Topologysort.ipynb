{
 "cells": [
  {
   "cell_type": "markdown",
   "metadata": {},
   "source": [
    "## Topological Sorting\n",
    "\n",
    "Topological sorting is a linear ordering of the vertices of a directed graph such that for every directed edge (u, v), vertex u comes before vertex v in the ordering. In other words, it is a way of arranging the vertices of a directed acyclic graph (DAG) in such a way that for every directed edge (u, v), vertex u comes before vertex v.\n",
    "\n",
    "Topological sorting has applications in various areas, including task scheduling, dependency resolution, and symbolic reasoning about programs. It is particularly useful when dealing with tasks that have dependencies, and you need to execute them in a specific order.\n",
    "\n",
    "Here are the key steps to perform topological sorting:\n",
    "\n",
    "1. **Select a vertex with no incoming edges (in-degree of 0):** Start by finding a vertex that has no incoming edges. In a directed graph, incoming edges represent dependencies, so a vertex with no incoming edges can be considered as a starting point.\n",
    "\n",
    "2. **Remove the chosen vertex and its outgoing edges:** Once you've selected a vertex, remove it from the graph along with its outgoing edges. This step simulates the completion of the corresponding task and removes its influence on the rest of the graph.\n",
    "\n",
    "3. **Repeat:** Repeat steps 1 and 2 until all vertices are processed. The order in which you remove the vertices gives you the topological ordering.\n",
    "\n",
    "It's important to note that topological sorting is only possible in directed acyclic graphs (DAGs). If the graph contains cycles, a topological ordering is not possible because there is a circular dependency, and it's not possible to determine a linear order.\n",
    "\n",
    "Topological sorting can be implemented using depth-first search (DFS) or breadth-first search (BFS) algorithms. Both approaches work well for acyclic graphs. The specific algorithm chosen often depends on the requirements of the problem and the characteristics of the graph.\n",
    "\n",
    "Certainly! Here's an example of topological sorting in Python using depth-first search (DFS). This implementation assumes that the input graph is represented as an adjacency list.\n",
    "\n",
    "\n"
   ]
  },
  {
   "cell_type": "code",
   "execution_count": null,
   "metadata": {},
   "outputs": [],
   "source": [
    "\n",
    "from collections import defaultdict\n",
    "\n",
    "class Graph:\n",
    "    def __init__(self, vertices):\n",
    "        self.graph = defaultdict(list)\n",
    "        self.V = vertices\n",
    "\n",
    "    def add_edge(self, u, v):\n",
    "        self.graph[u].append(v)\n",
    "\n",
    "    def topological_sort_util(self, v, visited, stack):\n",
    "        visited[v] = True\n",
    "\n",
    "        for i in self.graph[v]:\n",
    "            if not visited[i]:\n",
    "                self.topological_sort_util(i, visited, stack)\n",
    "\n",
    "        stack.append(v)\n",
    "\n",
    "    def topological_sort(self):\n",
    "        visited = [False] * self.V\n",
    "        stack = []\n",
    "\n",
    "        for i in range(self.V):\n",
    "            if not visited[i]:\n",
    "                self.topological_sort_util(i, visited, stack)\n",
    "\n",
    "        return stack[::-1]\n",
    "\n",
    "# Example usage:\n",
    "g = Graph(6)\n",
    "g.add_edge(5, 2)\n",
    "g.add_edge(5, 0)\n",
    "g.add_edge(4, 0)\n",
    "g.add_edge(4, 1)\n",
    "g.add_edge(2, 3)\n",
    "g.add_edge(3, 1)\n",
    "\n",
    "print(\"Topological Sorting:\", g.topological_sort())"
   ]
  },
  {
   "cell_type": "markdown",
   "metadata": {},
   "source": [
    "In this example, the `Graph` class represents a directed graph using an adjacency list. The `topological_sort` method initializes the visited array and a stack, then iterates through each vertex, calling the `topological_sort_util` method for unvisited vertices. The `stack` is used to store the topological ordering, and the final result is obtained by reversing the stack.\n",
    "\n",
    "Note that this implementation assumes that the graph is a directed acyclic graph (DAG). If the graph contains cycles, the topological sorting algorithm may not produce a valid result. You might want to add additional checks or handle cycles differently based on your specific requirements."
   ]
  }
 ],
 "metadata": {
  "language_info": {
   "name": "python"
  }
 },
 "nbformat": 4,
 "nbformat_minor": 2
}
