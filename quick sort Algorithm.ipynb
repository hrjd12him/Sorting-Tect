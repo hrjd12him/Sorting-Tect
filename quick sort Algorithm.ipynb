{
 "cells": [
  {
   "cell_type": "markdown",
   "metadata": {},
   "source": [
    "It seems like you want an explanation of the quicksort algorithm. Quicksort is a popular sorting algorithm that follows the divide-and-conquer paradigm. The basic idea is to partition the array into two smaller sub-arrays, and then recursively sort the sub-arrays.\n",
    "\n",
    "Here are the key steps of the quicksort algorithm:\n",
    "\n",
    "1. **Partitioning:**\n",
    "   - Choose a pivot element from the array.\n",
    "   - Rearrange the elements of the array such that all elements smaller than the pivot are on the left, and all elements larger than the pivot are on the right.\n",
    "   - The pivot is now in its final sorted position.\n",
    "\n",
    "2. **Recursion:**\n",
    "   - Recursively apply the above steps to the sub-array on the left of the pivot (elements smaller than the pivot).\n",
    "   - Recursively apply the above steps to the sub-array on the right of the pivot (elements larger than the pivot).\n",
    "\n",
    "3. **Base Case:**\n",
    "   - If the sub-array has zero or one element, it is already sorted, and no further processing is needed.\n",
    "\n",
    "The efficiency of quicksort comes from its in-place partitioning and the fact that it has an average-case time complexity of O(n log n). However, its worst-case time complexity is O(n^2), which occurs when the pivot selection consistently results in poorly balanced partitions. Various optimizations, such as choosing a good pivot and using other sorting algorithms for small sub-arrays, can be applied to mitigate these issues.\n",
    "\n",
    "Here's a simple implementation of the quicksort algorithm in Python:\n",
    "\n",
    "```python\n",
    "def quicksort(arr):\n",
    "    if len(arr) <= 1:\n",
    "        return arr\n",
    "    \n",
    "    pivot = arr[len(arr) // 2]\n",
    "    left = [x for x in arr if x < pivot]\n",
    "    middle = [x for x in arr if x == pivot]\n",
    "    right = [x for x in arr if x > pivot]\n",
    "\n",
    "    return quicksort(left) + middle + quicksort(right)\n",
    "\n",
    "# Example usage:\n",
    "arr = [12, 4, 5, 6, 7, 3, 1, 15]\n",
    "sorted_arr = quicksort(arr)\n",
    "print(sorted_arr)\n",
    "```\n",
    "\n",
    "This is a simple recursive implementation of quicksort for educational purposes. In practice, Python's built-in `sorted` function or the `sort` method for lists would be more efficient for sorting in Python."
   ]
  },
  {
   "cell_type": "code",
   "execution_count": 3,
   "metadata": {},
   "outputs": [
    {
     "name": "stdout",
     "output_type": "stream",
     "text": [
      "[1, 2, 3, 4, 5, 6, 9, 12, 21]\n"
     ]
    }
   ],
   "source": [
    "def partition(arr, low, high):# [3, 1, 4, 5, 9, 6, 12, 2, 21]\n",
    "    pivot = arr[low]\n",
    "    i = low + 1\n",
    "    j = high\n",
    "\n",
    "    while i <= j:\n",
    "        while i <= j and arr[i] <= pivot:\n",
    "            i += 1\n",
    "        while i <= j and arr[j] >= pivot:\n",
    "            j -= 1\n",
    "        if i <= j:\n",
    "            arr[i], arr[j] = arr[j], arr[i]\n",
    "\n",
    "    arr[low], arr[j] = arr[j], arr[low]\n",
    "    return j\n",
    "\n",
    "def quick_sort(arr, low, high):\n",
    "    if low < high:\n",
    "        pivot = partition(arr, low, high)\n",
    "        quick_sort(arr, low, pivot - 1)\n",
    "        quick_sort(arr, pivot + 1, high)\n",
    "\n",
    "arr = [3, 1, 4, 5, 9, 6, 12, 2, 21]\n",
    "quick_sort(arr, 0, len(arr) - 1)\n",
    "print(arr)\n"
   ]
  }
 ],
 "metadata": {
  "kernelspec": {
   "display_name": "Python 3",
   "language": "python",
   "name": "python3"
  },
  "language_info": {
   "codemirror_mode": {
    "name": "ipython",
    "version": 3
   },
   "file_extension": ".py",
   "mimetype": "text/x-python",
   "name": "python",
   "nbconvert_exporter": "python",
   "pygments_lexer": "ipython3",
   "version": "3.11.4"
  }
 },
 "nbformat": 4,
 "nbformat_minor": 2
}
